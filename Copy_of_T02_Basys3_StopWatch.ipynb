{
  "cells": [
    {
      "cell_type": "markdown",
      "metadata": {
        "id": "view-in-github",
        "colab_type": "text"
      },
      "source": [
        "<a href=\"https://colab.research.google.com/github/ahatnme/Default/blob/main/Copy_of_T02_Basys3_StopWatch.ipynb\" target=\"_parent\"><img src=\"https://colab.research.google.com/assets/colab-badge.svg\" alt=\"Open In Colab\"/></a>"
      ]
    },
    {
      "cell_type": "markdown",
      "metadata": {
        "id": "Mz7jZ0eQ1Otu"
      },
      "source": [
        "# T02: Stopwatch on Basys 3\n",
        "\n",
        "## Objective:\n",
        "Design and implement a **stopwatch** on the **Basys 3 FPGA** board using Verilog, making use of the **4-digit** **7-segment** display LEDs for time display. The stopwatch should have the following features:  \n",
        "1. **Reset functionality**: Press a button (e.g., `btnR`) to restart the stopwatch.  \n",
        "2. **Time Display**: Display the elapsed time in minutes and seconds on the 4-digit 7-segment display.  \n",
        "3. **Update Frequency**: Update the display at a reasonable frequency (e.g., every 1 second).  \n",
        "\n",
        "---\n",
        "\n",
        "## Instructions  \n",
        "### FPGA Project  \n",
        "1. Create a new Vivado project for the Basys 3 FPGA board.  \n",
        "2. Write Verilog code to implement the stopwatch logic.  \n",
        "3. Map the Verilog design to the Basys 3 board's resources via the basys3 [constraint file](./Demo_Code/basys3_template.xdc) (`.xdc`).   \n",
        "4. Generate the bitstream file.\n",
        "5. Program the FPGA board with the bitstream.  \n",
        "6. Test and debug your stopwatch design on the FPGA board to ensure correct functionality.  \n",
        "7. Document your design, including the Verilog code, functional diagrams, and challenges faced during implementation.  \n",
        "8. **Detailed CMOD A7 Development tutorial**: [Vivado Project Guideline](https://classroom.google.com/u/0/c/NzM2NTAyNzI3NDY5/m/NzI1OTgzMjk4NTI2/details)  \n",
        "9. **Demo Vivado Project**: [T02_Basys3_StopWatch](./Demo_Code/T02_Basys3_StopWatch)  \n",
        "\n",
        "---\n",
        "\n",
        "## Simulation  \n",
        "- [Verify functionality using testbenches and waveform analysis.](Simulation/simT02_Basys3_StopWatch_SSD.ipynb)  \n",
        "---\n",
        "\n",
        "## Additional Challenge (*Optional*):  \n",
        "Add features like **pause/resume functionality** to the stopwatch design.  \n",
        "\n",
        "---\n",
        "\n",
        "## Submission:  \n",
        "*This is a group work. Only one member needs to submit the materials.*  \n",
        "1. A self-contained `ipynb` file which:  \n",
        "   - **Google Colab link** and **GitHub link**.  \n",
        "   - **Verilog codes** (module, testbench, waveform, AI prompt, etc.).  \n",
        "   - A **brief report** documenting the design, Python code (e.g., logic expressions, AI-generated code), challenges, and lessons learned;\n",
        "2. A **demonstration video** (less than 1 minute, `.mp4` format).\n",
        "* Submit to **edimension** and share with instructor GitHub: `pe8sutd`, `pe8sutd@gmail.com`.  \n",
        "3. The report should report how AI is used in the design (if applicable). The guideline: [![Open in Colab](https://colab.research.google.com/assets/colab-badge.svg)](https://github.com/pe8sutd/Colab_DSL_Practice25/blob/main/G01_Used_of_AI_in_Design.ipynb)\n",
        "\n",
        "\n",
        "---\n",
        "\n",
        "## Deadline:  \n",
        "Refer to the due date in the **edimension submission folder**.  \n",
        "\n",
        "---\n",
        "\n",
        "## Grading:  \n",
        "Based on:  \n",
        "- Functionality of the stopwatch.  \n",
        "- Clarity of Verilog code.  \n",
        "- Quality of documentation.  \n",
        "*Bonus points for additional features or creative implementations.*  \n",
        "\n",
        "---\n",
        "\n"
      ]
    },
    {
      "cell_type": "markdown",
      "source": [
        "## Demo Video  \n"
      ],
      "metadata": {
        "id": "6812PdUV1SyA"
      }
    },
    {
      "cell_type": "markdown",
      "source": [
        "The short [video](https://youtu.be/xX5csfU79kQ) demonstrating the stopwatch’s functionality on the Basys 3 board.\n",
        "https://youtu.be/xX5csfU79kQ"
      ],
      "metadata": {
        "id": "Jp3ActGh1X8n"
      }
    }
  ],
  "metadata": {
    "language_info": {
      "name": "python"
    },
    "colab": {
      "provenance": [],
      "include_colab_link": true
    }
  },
  "nbformat": 4,
  "nbformat_minor": 0
}