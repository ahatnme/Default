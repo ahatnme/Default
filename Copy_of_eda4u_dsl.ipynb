{
  "nbformat": 4,
  "nbformat_minor": 0,
  "metadata": {
    "colab": {
      "provenance": [],
      "include_colab_link": true
    },
    "kernelspec": {
      "name": "python3",
      "display_name": "Python 3"
    },
    "language_info": {
      "name": "python"
    }
  },
  "cells": [
    {
      "cell_type": "markdown",
      "metadata": {
        "id": "view-in-github",
        "colab_type": "text"
      },
      "source": [
        "<a href=\"https://colab.research.google.com/github/ahatnme/Default/blob/main/Copy_of_eda4u_dsl.ipynb\" target=\"_parent\"><img src=\"https://colab.research.google.com/assets/colab-badge.svg\" alt=\"Open In Colab\"/></a>"
      ]
    },
    {
      "cell_type": "code",
      "execution_count": 41,
      "metadata": {
        "id": "AL14g-kIPSoC",
        "colab": {
          "base_uri": "https://localhost:8080/"
        },
        "outputId": "9939fba1-5846-4c91-e4ca-2d4446a31b13"
      },
      "outputs": [
        {
          "output_type": "stream",
          "name": "stdout",
          "text": [
            "The plugin extension is already loaded. To reload it, use:\n",
            "  %reload_ext plugin\n"
          ]
        }
      ],
      "source": [
        "!pip install git+https://github.com/pe8sutd/eda4u &> /dev/null\n",
        "!git clone https://github.com/pe8sutd/eda4u &> /dev/null\n",
        "%load_ext plugin"
      ]
    },
    {
      "cell_type": "markdown",
      "source": [
        "You need to run the above setup everytime you login to the Colab, if you want to run this online EDA."
      ],
      "metadata": {
        "id": "cWVvU2nMPhcg"
      }
    },
    {
      "cell_type": "markdown",
      "source": [
        "## Test Test"
      ],
      "metadata": {
        "id": "HRFiCguMQAOc"
      }
    },
    {
      "cell_type": "markdown",
      "source": [
        "### %%print_verilog\n",
        "\n",
        "Using %%print_verilog, the schematic of the Verilog HDL design can be generated for reference."
      ],
      "metadata": {
        "id": "eY3o5ZmsPyEI"
      }
    },
    {
      "cell_type": "code",
      "source": [
        "%%print_verilog\n",
        "\n",
        "//--my 2 inputs and gate--//\n",
        "module my_and2(\n",
        "    output F,\n",
        "    input a,\n",
        "    input b);\n",
        "\n",
        "  assign F = (a&b);\n",
        "\n",
        "endmodule\n",
        "//-----//"
      ],
      "metadata": {
        "colab": {
          "base_uri": "https://localhost:8080/",
          "height": 140
        },
        "id": "dkTco0imQFM4",
        "outputId": "11776bd3-539e-4e41-d04e-5eb9bfcb46d6"
      },
      "execution_count": 42,
      "outputs": [
        {
          "output_type": "display_data",
          "data": {
            "text/plain": [
              "<IPython.core.display.SVG object>"
            ],
            "image/svg+xml": "<svg xmlns=\"http://www.w3.org/2000/svg\" xmlns:xlink=\"http://www.w3.org/1999/xlink\" xmlns:s=\"https://github.com/nturley/netlistsvg\" width=\"184\" height=\"119\"><style>svg {\n  stroke:#000;\n  fill:none;\n}\ntext {\n  fill:#000;\n  stroke:none;\n  font-size:10px;\n  font-weight: bold;\n  font-family: &quot;Courier New&quot;, monospace;\n}\nline {\n    stroke-linecap: round;\n}\n.nodelabel {\n  text-anchor: middle;\n}\n.inputPortLabel {\n  text-anchor: end;\n}\n.splitjoinBody {\n  fill:#000;\n}</style><g s:type=\"and\" transform=\"translate(77,27)\" s:width=\"30\" s:height=\"25\" id=\"cell_$and$/content/code.v:8$1\"><s:alias val=\"$and\"/><s:alias val=\"$logic_and\"/><s:alias val=\"$_AND_\"/><s:alias val=\"$reduce_and\"/><path d=\"M0,0 L0,25 L15,25 A15 12.5 0 0 0 15,0 Z\" class=\"cell_$and$/content/code.v:8$1\"/><g s:x=\"0\" s:y=\"5\" s:pid=\"A\"/><g s:x=\"0\" s:y=\"20\" s:pid=\"B\"/><g s:x=\"30\" s:y=\"12.5\" s:pid=\"Y\"/></g><g s:type=\"outputExt\" transform=\"translate(142,29.5)\" s:width=\"30\" s:height=\"20\" id=\"cell_F\"><text x=\"15\" y=\"-4\" class=\"nodelabel cell_F\" s:attribute=\"ref\">F</text><s:alias val=\"$_outputExt_\"/><path d=\"M30,0 L30,20 L15,20 L0,10 L15,0 Z\" class=\"cell_F\"/><g s:x=\"0\" s:y=\"10\" s:pid=\"A\"/></g><g s:type=\"inputExt\" transform=\"translate(12,22)\" s:width=\"30\" s:height=\"20\" id=\"cell_a\"><text x=\"15\" y=\"-4\" class=\"nodelabel cell_a\" s:attribute=\"ref\">a</text><s:alias val=\"$_inputExt_\"/><path d=\"M0,0 L0,20 L15,20 L30,10 L15,0 Z\" class=\"cell_a\"/><g s:x=\"30\" s:y=\"10\" s:pid=\"Y\"/></g><g s:type=\"inputExt\" transform=\"translate(12,87)\" s:width=\"30\" s:height=\"20\" id=\"cell_b\"><text x=\"15\" y=\"-4\" class=\"nodelabel cell_b\" s:attribute=\"ref\">b</text><s:alias val=\"$_inputExt_\"/><path d=\"M0,0 L0,20 L15,20 L30,10 L15,0 Z\" class=\"cell_b\"/><g s:x=\"30\" s:y=\"10\" s:pid=\"Y\"/></g><line x1=\"42\" x2=\"77\" y1=\"32\" y2=\"32\" class=\"net_3 width_1\" style=\"stroke-width: 1\"/><line x1=\"42\" x2=\"52\" y1=\"97\" y2=\"97\" class=\"net_4 width_1\" style=\"stroke-width: 1\"/><line x1=\"52\" x2=\"52\" y1=\"97\" y2=\"47\" class=\"net_4 width_1\" style=\"stroke-width: 1\"/><line x1=\"52\" x2=\"77\" y1=\"47\" y2=\"47\" class=\"net_4 width_1\" style=\"stroke-width: 1\"/><line x1=\"107\" x2=\"142\" y1=\"39.5\" y2=\"39.5\" class=\"net_2 width_1\" style=\"stroke-width: 1\"/></svg>"
          },
          "metadata": {}
        }
      ]
    },
    {
      "cell_type": "markdown",
      "source": [
        "## %%verilog\n",
        "\n",
        "Most of the time, only need to use %%verilog to simulate the Verilog module, with Testbench.\n",
        "The modules, and testbench must be included in the same Cell. The above Cell that include the adder module is not seen in the below Cell, thus the adder module is again included in the below cell.\n",
        "\n",
        "If you include testbench:\n",
        "1. You should only use %%verilog, but not %%print_verilog. Otherwise there will be syntax error;\n",
        "1. You must include $finish; in the testbench. Otherwise, the Cell will be runing the simulation and non-stop;"
      ],
      "metadata": {
        "id": "zyTr99WNQWHx"
      }
    },
    {
      "cell_type": "code",
      "source": [
        "%%verilog\n",
        "\n",
        "//--my 2 inputs and gate--//\n",
        "module my_and2 (\n",
        "    output F,\n",
        "    input a,\n",
        "    input b);\n",
        "\n",
        "  assign F = (a&b);\n",
        "\n",
        "endmodule\n",
        "//-----//\n",
        "\n",
        "//-----//\n",
        "module my_add2_tb();\n",
        "    wire F_tb;\n",
        "    reg a_tb, b_tb;\n",
        "\n",
        "    my_and2 dut(.F(F_tb),.a(a_tb),.b(b_tb));\n",
        "\n",
        "    // Test stimulus\n",
        "    initial begin\n",
        "        $dumpfile(\"my_add2_tb.vcd\");\n",
        "        $dumpvars;\n",
        "\n",
        "        #0 a_tb = 1'b0; b_tb = 1'b0;\n",
        "        #1 a_tb = 1'b0; b_tb = 1'b1;\n",
        "        #1 a_tb = 1'b1; b_tb = 1'b0;\n",
        "        #1 a_tb = 1'b1; b_tb = 1'b1;\n",
        "        #1 $finish;\n",
        "\n",
        "        $dumpoff;\n",
        "    end\n",
        "\n",
        "endmodule\n"
      ],
      "metadata": {
        "colab": {
          "base_uri": "https://localhost:8080/"
        },
        "id": "zE3p6zoQ_mu2",
        "outputId": "5e16010a-3a27-49fc-a9ee-2c0b13fbe45d"
      },
      "execution_count": 43,
      "outputs": [
        {
          "output_type": "stream",
          "name": "stdout",
          "text": [
            "VCD info: dumpfile my_add2_tb.vcd opened for output.\n",
            "\n"
          ]
        }
      ]
    },
    {
      "cell_type": "markdown",
      "source": [
        "## %%waveform\n",
        "\n",
        "You can choose to plot the waveform using %%waveform, where it will take the saved file from above Cell, c_cra.vcd, to plot the waveform. The file name must be specificed in the above Cell."
      ],
      "metadata": {
        "id": "J_bvXYcNR8IY"
      }
    },
    {
      "cell_type": "code",
      "source": [
        "%%waveform my_add2_tb.vcd\n",
        "sign_list = ['my_add2_tb.F_tb','my_add2_tb.a_tb', 'my_add2_tb.b_tb']\n",
        "time_begin = 0\n",
        "time_end = 5\n",
        "base = 'dec' # bin, dec, dec2, hex, octal"
      ],
      "metadata": {
        "colab": {
          "base_uri": "https://localhost:8080/",
          "height": 368
        },
        "id": "Jlhj5m9NR1XZ",
        "outputId": "b8e06fad-9755-45af-9ee1-488b0c43a86e"
      },
      "execution_count": 44,
      "outputs": [
        {
          "output_type": "display_data",
          "data": {
            "text/plain": [
              "<Figure size 600x400 with 1 Axes>"
            ],
            "image/png": "[encoded data removed]"
          },
          "metadata": {}
        }
      ]
    },
    {
      "cell_type": "markdown",
      "source": [
        "##Exercise\n",
        "Copy the above Verilog module and Testbench, modify the codes to evaluate NAND, OR, NOR, XOR, XNOR.\n",
        "\n",
        "You can try to ask Gemini, \"what is the boolean expressins in Verilog HDL for AND, NAND, OR, NOR, XOR, XNOR\""
      ],
      "metadata": {
        "id": "bU7-yHdeObnB"
      }
    },
    {
      "cell_type": "code",
      "source": [
        "%%print_verilog\n",
        "\n",
        "//--my 2 inputs nand gate--//\n",
        "module my_and2(\n",
        "    output F,\n",
        "    input a,\n",
        "    input b);\n",
        "\n",
        "  assign F = (~a&b);\n",
        "\n",
        "endmodule\n",
        "//-----//"
      ],
      "metadata": {
        "id": "JxNQJO_izJNZ",
        "colab": {
          "base_uri": "https://localhost:8080/",
          "height": 140
        },
        "outputId": "e77de375-f566-41f2-fdaf-fb2fbaa5abd6"
      },
      "execution_count": 45,
      "outputs": [
        {
          "output_type": "display_data",
          "data": {
            "text/plain": [
              "<IPython.core.display.SVG object>"
            ],
            "image/svg+xml": "<svg xmlns=\"http://www.w3.org/2000/svg\" xmlns:xlink=\"http://www.w3.org/1999/xlink\" xmlns:s=\"https://github.com/nturley/netlistsvg\" width=\"250\" height=\"119\"><style>svg {\n  stroke:#000;\n  fill:none;\n}\ntext {\n  fill:#000;\n  stroke:none;\n  font-size:10px;\n  font-weight: bold;\n  font-family: &quot;Courier New&quot;, monospace;\n}\nline {\n    stroke-linecap: round;\n}\n.nodelabel {\n  text-anchor: middle;\n}\n.inputPortLabel {\n  text-anchor: end;\n}\n.splitjoinBody {\n  fill:#000;\n}</style><g s:type=\"and\" transform=\"translate(143,27)\" s:width=\"30\" s:height=\"25\" id=\"cell_$and$/content/code.v:8$2\"><s:alias val=\"$and\"/><s:alias val=\"$logic_and\"/><s:alias val=\"$_AND_\"/><s:alias val=\"$reduce_and\"/><path d=\"M0,0 L0,25 L15,25 A15 12.5 0 0 0 15,0 Z\" class=\"cell_$and$/content/code.v:8$2\"/><g s:x=\"0\" s:y=\"5\" s:pid=\"A\"/><g s:x=\"0\" s:y=\"20\" s:pid=\"B\"/><g s:x=\"30\" s:y=\"12.5\" s:pid=\"Y\"/></g><g s:type=\"not\" transform=\"translate(78,22)\" s:width=\"30\" s:height=\"20\" id=\"cell_$not$/content/code.v:8$1\"><s:alias val=\"$_NOT_\"/><s:alias val=\"$not\"/><s:alias val=\"$logic_not\"/><path d=\"M0,0 L0,20 L20,10 Z\" class=\"cell_$not$/content/code.v:8$1\"/><circle cx=\"24\" cy=\"10\" r=\"3\" class=\"cell_$not$/content/code.v:8$1\"/><g s:x=\"-1\" s:y=\"10\" s:pid=\"A\"/><g s:x=\"27\" s:y=\"10\" s:pid=\"Y\"/></g><g s:type=\"outputExt\" transform=\"translate(208,29.5)\" s:width=\"30\" s:height=\"20\" id=\"cell_F\"><text x=\"15\" y=\"-4\" class=\"nodelabel cell_F\" s:attribute=\"ref\">F</text><s:alias val=\"$_outputExt_\"/><path d=\"M30,0 L30,20 L15,20 L0,10 L15,0 Z\" class=\"cell_F\"/><g s:x=\"0\" s:y=\"10\" s:pid=\"A\"/></g><g s:type=\"inputExt\" transform=\"translate(12,22)\" s:width=\"30\" s:height=\"20\" id=\"cell_a\"><text x=\"15\" y=\"-4\" class=\"nodelabel cell_a\" s:attribute=\"ref\">a</text><s:alias val=\"$_inputExt_\"/><path d=\"M0,0 L0,20 L15,20 L30,10 L15,0 Z\" class=\"cell_a\"/><g s:x=\"30\" s:y=\"10\" s:pid=\"Y\"/></g><g s:type=\"inputExt\" transform=\"translate(78,87)\" s:width=\"30\" s:height=\"20\" id=\"cell_b\"><text x=\"15\" y=\"-4\" class=\"nodelabel cell_b\" s:attribute=\"ref\">b</text><s:alias val=\"$_inputExt_\"/><path d=\"M0,0 L0,20 L15,20 L30,10 L15,0 Z\" class=\"cell_b\"/><g s:x=\"30\" s:y=\"10\" s:pid=\"Y\"/></g><line x1=\"105\" x2=\"143\" y1=\"32\" y2=\"32\" class=\"net_5 width_1\" style=\"stroke-width: 1\"/><line x1=\"108\" x2=\"118\" y1=\"97\" y2=\"97\" class=\"net_4 width_1\" style=\"stroke-width: 1\"/><line x1=\"118\" x2=\"118\" y1=\"97\" y2=\"47\" class=\"net_4 width_1\" style=\"stroke-width: 1\"/><line x1=\"118\" x2=\"143\" y1=\"47\" y2=\"47\" class=\"net_4 width_1\" style=\"stroke-width: 1\"/><line x1=\"42\" x2=\"77\" y1=\"32\" y2=\"32\" class=\"net_3 width_1\" style=\"stroke-width: 1\"/><line x1=\"173\" x2=\"208\" y1=\"39.5\" y2=\"39.5\" class=\"net_2 width_1\" style=\"stroke-width: 1\"/></svg>"
          },
          "metadata": {}
        }
      ]
    },
    {
      "cell_type": "code",
      "source": [
        "%%verilog\n",
        "\n",
        "//--my 2 inputs nand gate--//\n",
        "module my_and2 (\n",
        "    output F,\n",
        "    input a,\n",
        "    input b);\n",
        "\n",
        "  assign F = (a~&b);\n",
        "\n",
        "endmodule\n",
        "//-----//\n",
        "\n",
        "//-----//\n",
        "module my_nadd2_tb();\n",
        "    wire F_tb;\n",
        "    reg a_tb, b_tb;\n",
        "\n",
        "    my_and2 dut(.F(F_tb),.a(a_tb),.b(b_tb));\n",
        "\n",
        "    // Test stimulus\n",
        "    initial begin\n",
        "        $dumpfile(\"my_nadd2_tb.vcd\");\n",
        "        $dumpvars;\n",
        "\n",
        "        #0 a_tb = 1'b0; b_tb = 1'b0;\n",
        "        #1 a_tb = 1'b0; b_tb = 1'b1;\n",
        "        #1 a_tb = 1'b1; b_tb = 1'b0;\n",
        "        #1 a_tb = 1'b1; b_tb = 1'b1;\n",
        "        #1 $finish;\n",
        "\n",
        "        $dumpoff;\n",
        "    end\n",
        "\n",
        "endmodule"
      ],
      "metadata": {
        "colab": {
          "base_uri": "https://localhost:8080/"
        },
        "id": "V52VOs218w7T",
        "outputId": "000b5187-8c8f-4570-87ae-001c8236222e"
      },
      "execution_count": 46,
      "outputs": [
        {
          "output_type": "stream",
          "name": "stdout",
          "text": [
            "VCD info: dumpfile my_nadd2_tb.vcd opened for output.\n",
            "\n"
          ]
        }
      ]
    },
    {
      "cell_type": "code",
      "source": [
        "%%waveform my_nadd2_tb.vcd\n",
        "sign_list = ['my_nadd2_tb.F_tb','my_nadd2_tb.a_tb', 'my_nadd2_tb.b_tb']\n",
        "time_begin = 0\n",
        "time_end = 5\n",
        "base = 'dec' # bin, dec, dec2, hex, octal"
      ],
      "metadata": {
        "colab": {
          "base_uri": "https://localhost:8080/",
          "height": 368
        },
        "id": "caUFhYl582jk",
        "outputId": "880573c6-1ddf-45dc-e7ed-5ea6a3e9a3a4"
      },
      "execution_count": 47,
      "outputs": [
        {
          "output_type": "display_data",
          "data": {
            "text/plain": [
              "<Figure size 600x400 with 1 Axes>"
            ],
            "image/png": "[encoded data removed]"
          },
          "metadata": {}
        }
      ]
    },
    {
      "cell_type": "code",
      "source": [
        "%%print_verilog\n",
        "\n",
        "//--my 2 inputs or gate--//\n",
        "module my_and2(\n",
        "    output F,\n",
        "    input a,\n",
        "    input b);\n",
        "\n",
        "  assign F = (a|b);\n",
        "\n",
        "endmodule\n",
        "//-----//"
      ],
      "metadata": {
        "colab": {
          "base_uri": "https://localhost:8080/",
          "height": 140
        },
        "id": "tIb_iMdX85CQ",
        "outputId": "62a3a25f-f4d7-4771-b5d2-d6975670d346"
      },
      "execution_count": 48,
      "outputs": [
        {
          "output_type": "display_data",
          "data": {
            "text/plain": [
              "<IPython.core.display.SVG object>"
            ],
            "image/svg+xml": "<svg xmlns=\"http://www.w3.org/2000/svg\" xmlns:xlink=\"http://www.w3.org/1999/xlink\" xmlns:s=\"https://github.com/nturley/netlistsvg\" width=\"184\" height=\"119\"><style>svg {\n  stroke:#000;\n  fill:none;\n}\ntext {\n  fill:#000;\n  stroke:none;\n  font-size:10px;\n  font-weight: bold;\n  font-family: &quot;Courier New&quot;, monospace;\n}\nline {\n    stroke-linecap: round;\n}\n.nodelabel {\n  text-anchor: middle;\n}\n.inputPortLabel {\n  text-anchor: end;\n}\n.splitjoinBody {\n  fill:#000;\n}</style><g s:type=\"or\" transform=\"translate(77,27)\" s:width=\"30\" s:height=\"25\" id=\"cell_$or$/content/code.v:8$1\"><s:alias val=\"$or\"/><s:alias val=\"$logic_or\"/><s:alias val=\"$_OR_\"/><s:alias val=\"$reduce_or\"/><s:alias val=\"$reduce_bool\"/><path d=\"M0,0 A30 25 0 0 1 0,25 A30 25 0 0 0 30,12.5 A30 25 0 0 0 0,0\" class=\"cell_$or$/content/code.v:8$1\"/><g s:x=\"2\" s:y=\"5\" s:pid=\"A\"/><g s:x=\"2\" s:y=\"20\" s:pid=\"B\"/><g s:x=\"30\" s:y=\"12.5\" s:pid=\"Y\"/></g><g s:type=\"outputExt\" transform=\"translate(142,29.5)\" s:width=\"30\" s:height=\"20\" id=\"cell_F\"><text x=\"15\" y=\"-4\" class=\"nodelabel cell_F\" s:attribute=\"ref\">F</text><s:alias val=\"$_outputExt_\"/><path d=\"M30,0 L30,20 L15,20 L0,10 L15,0 Z\" class=\"cell_F\"/><g s:x=\"0\" s:y=\"10\" s:pid=\"A\"/></g><g s:type=\"inputExt\" transform=\"translate(12,22)\" s:width=\"30\" s:height=\"20\" id=\"cell_a\"><text x=\"15\" y=\"-4\" class=\"nodelabel cell_a\" s:attribute=\"ref\">a</text><s:alias val=\"$_inputExt_\"/><path d=\"M0,0 L0,20 L15,20 L30,10 L15,0 Z\" class=\"cell_a\"/><g s:x=\"30\" s:y=\"10\" s:pid=\"Y\"/></g><g s:type=\"inputExt\" transform=\"translate(12,87)\" s:width=\"30\" s:height=\"20\" id=\"cell_b\"><text x=\"15\" y=\"-4\" class=\"nodelabel cell_b\" s:attribute=\"ref\">b</text><s:alias val=\"$_inputExt_\"/><path d=\"M0,0 L0,20 L15,20 L30,10 L15,0 Z\" class=\"cell_b\"/><g s:x=\"30\" s:y=\"10\" s:pid=\"Y\"/></g><line x1=\"42\" x2=\"79\" y1=\"32\" y2=\"32\" class=\"net_3 width_1\" style=\"stroke-width: 1\"/><line x1=\"42\" x2=\"52\" y1=\"97\" y2=\"97\" class=\"net_4 width_1\" style=\"stroke-width: 1\"/><line x1=\"52\" x2=\"52\" y1=\"97\" y2=\"47\" class=\"net_4 width_1\" style=\"stroke-width: 1\"/><line x1=\"52\" x2=\"79\" y1=\"47\" y2=\"47\" class=\"net_4 width_1\" style=\"stroke-width: 1\"/><line x1=\"107\" x2=\"142\" y1=\"39.5\" y2=\"39.5\" class=\"net_2 width_1\" style=\"stroke-width: 1\"/></svg>"
          },
          "metadata": {}
        }
      ]
    },
    {
      "cell_type": "code",
      "source": [
        "%%verilog\n",
        "\n",
        "//--my 2 inputo or gate--//\n",
        "module my_and2 (\n",
        "    output F,\n",
        "    input a,\n",
        "    input b);\n",
        "\n",
        "  assign F = (a|b);\n",
        "\n",
        "endmodule\n",
        "//-----//\n",
        "\n",
        "//-----//\n",
        "module my_or2_tb();\n",
        "    wire F_tb;\n",
        "    reg a_tb, b_tb;\n",
        "\n",
        "    my_and2 dut(.F(F_tb),.a(a_tb),.b(b_tb));\n",
        "\n",
        "    // Test stimulus\n",
        "    initial begin\n",
        "        $dumpfile(\"my_or2_tb.vcd\");\n",
        "        $dumpvars;\n",
        "\n",
        "        #0 a_tb = 1'b0; b_tb = 1'b0;\n",
        "        #1 a_tb = 1'b0; b_tb = 1'b1;\n",
        "        #1 a_tb = 1'b1; b_tb = 1'b0;\n",
        "        #1 a_tb = 1'b1; b_tb = 1'b1;\n",
        "        #1 $finish;\n",
        "\n",
        "        $dumpoff;\n",
        "    end\n",
        "\n",
        "endmodule"
      ],
      "metadata": {
        "colab": {
          "base_uri": "https://localhost:8080/"
        },
        "id": "90jdTqtq9G2E",
        "outputId": "21955f50-00ad-46c4-d001-454f09702b2a"
      },
      "execution_count": 49,
      "outputs": [
        {
          "output_type": "stream",
          "name": "stdout",
          "text": [
            "VCD info: dumpfile my_or2_tb.vcd opened for output.\n",
            "\n"
          ]
        }
      ]
    },
    {
      "cell_type": "code",
      "source": [
        "%%waveform my_or2_tb.vcd\n",
        "sign_list = ['my_or2_tb.F_tb','my_or2_tb.a_tb', 'my_or2_tb.b_tb']\n",
        "time_begin = 0\n",
        "time_end = 5\n",
        "base = 'dec' # bin, dec, dec2, hex, octal"
      ],
      "metadata": {
        "colab": {
          "base_uri": "https://localhost:8080/",
          "height": 368
        },
        "id": "5QJ2h0iz9O6g",
        "outputId": "007d57d1-f400-4a70-cdb3-9730f510967c"
      },
      "execution_count": 50,
      "outputs": [
        {
          "output_type": "display_data",
          "data": {
            "text/plain": [
              "<Figure size 600x400 with 1 Axes>"
            ],
            "image/png": "[encoded data removed]"
          },
          "metadata": {}
        }
      ]
    },
    {
      "cell_type": "code",
      "source": [
        "%%print_verilog\n",
        "\n",
        "//--my 2 inputs nor gate--//\n",
        "module my_and2(\n",
        "    output F,\n",
        "    input a,\n",
        "    input b);\n",
        "\n",
        "  assign F = (a~|b);\n",
        "\n",
        "endmodule\n",
        "//-----//"
      ],
      "metadata": {
        "colab": {
          "base_uri": "https://localhost:8080/",
          "height": 140
        },
        "id": "8EweZDg29W31",
        "outputId": "a2a3b2ce-2a65-4fcf-f9f1-a9def102288f"
      },
      "execution_count": 51,
      "outputs": [
        {
          "output_type": "display_data",
          "data": {
            "text/plain": [
              "<IPython.core.display.SVG object>"
            ],
            "image/svg+xml": "<svg xmlns=\"http://www.w3.org/2000/svg\" xmlns:xlink=\"http://www.w3.org/1999/xlink\" xmlns:s=\"https://github.com/nturley/netlistsvg\" width=\"250\" height=\"119\"><style>svg {\n  stroke:#000;\n  fill:none;\n}\ntext {\n  fill:#000;\n  stroke:none;\n  font-size:10px;\n  font-weight: bold;\n  font-family: &quot;Courier New&quot;, monospace;\n}\nline {\n    stroke-linecap: round;\n}\n.nodelabel {\n  text-anchor: middle;\n}\n.inputPortLabel {\n  text-anchor: end;\n}\n.splitjoinBody {\n  fill:#000;\n}</style><g s:type=\"not\" transform=\"translate(143,29.5)\" s:width=\"30\" s:height=\"20\" id=\"cell_$not$/content/code.v:8$2\"><s:alias val=\"$_NOT_\"/><s:alias val=\"$not\"/><s:alias val=\"$logic_not\"/><path d=\"M0,0 L0,20 L20,10 Z\" class=\"cell_$not$/content/code.v:8$2\"/><circle cx=\"24\" cy=\"10\" r=\"3\" class=\"cell_$not$/content/code.v:8$2\"/><g s:x=\"-1\" s:y=\"10\" s:pid=\"A\"/><g s:x=\"27\" s:y=\"10\" s:pid=\"Y\"/></g><g s:type=\"or\" transform=\"translate(77,27)\" s:width=\"30\" s:height=\"25\" id=\"cell_$or$/content/code.v:8$1\"><s:alias val=\"$or\"/><s:alias val=\"$logic_or\"/><s:alias val=\"$_OR_\"/><s:alias val=\"$reduce_or\"/><s:alias val=\"$reduce_bool\"/><path d=\"M0,0 A30 25 0 0 1 0,25 A30 25 0 0 0 30,12.5 A30 25 0 0 0 0,0\" class=\"cell_$or$/content/code.v:8$1\"/><g s:x=\"2\" s:y=\"5\" s:pid=\"A\"/><g s:x=\"2\" s:y=\"20\" s:pid=\"B\"/><g s:x=\"30\" s:y=\"12.5\" s:pid=\"Y\"/></g><g s:type=\"outputExt\" transform=\"translate(208,29.5)\" s:width=\"30\" s:height=\"20\" id=\"cell_F\"><text x=\"15\" y=\"-4\" class=\"nodelabel cell_F\" s:attribute=\"ref\">F</text><s:alias val=\"$_outputExt_\"/><path d=\"M30,0 L30,20 L15,20 L0,10 L15,0 Z\" class=\"cell_F\"/><g s:x=\"0\" s:y=\"10\" s:pid=\"A\"/></g><g s:type=\"inputExt\" transform=\"translate(12,22)\" s:width=\"30\" s:height=\"20\" id=\"cell_a\"><text x=\"15\" y=\"-4\" class=\"nodelabel cell_a\" s:attribute=\"ref\">a</text><s:alias val=\"$_inputExt_\"/><path d=\"M0,0 L0,20 L15,20 L30,10 L15,0 Z\" class=\"cell_a\"/><g s:x=\"30\" s:y=\"10\" s:pid=\"Y\"/></g><g s:type=\"inputExt\" transform=\"translate(12,87)\" s:width=\"30\" s:height=\"20\" id=\"cell_b\"><text x=\"15\" y=\"-4\" class=\"nodelabel cell_b\" s:attribute=\"ref\">b</text><s:alias val=\"$_inputExt_\"/><path d=\"M0,0 L0,20 L15,20 L30,10 L15,0 Z\" class=\"cell_b\"/><g s:x=\"30\" s:y=\"10\" s:pid=\"Y\"/></g><line x1=\"107\" x2=\"142\" y1=\"39.5\" y2=\"39.5\" class=\"net_5 width_1\" style=\"stroke-width: 1\"/><line x1=\"42\" x2=\"79\" y1=\"32\" y2=\"32\" class=\"net_3 width_1\" style=\"stroke-width: 1\"/><line x1=\"42\" x2=\"52\" y1=\"97\" y2=\"97\" class=\"net_4 width_1\" style=\"stroke-width: 1\"/><line x1=\"52\" x2=\"52\" y1=\"97\" y2=\"47\" class=\"net_4 width_1\" style=\"stroke-width: 1\"/><line x1=\"52\" x2=\"79\" y1=\"47\" y2=\"47\" class=\"net_4 width_1\" style=\"stroke-width: 1\"/><line x1=\"170\" x2=\"208\" y1=\"39.5\" y2=\"39.5\" class=\"net_2 width_1\" style=\"stroke-width: 1\"/></svg>"
          },
          "metadata": {}
        }
      ]
    },
    {
      "cell_type": "code",
      "source": [
        "%%verilog\n",
        "\n",
        "//--my 2 inputs nor gate--//\n",
        "module my_and2 (\n",
        "    output F,\n",
        "    input a,\n",
        "    input b);\n",
        "\n",
        "  assign F = (a~|b);\n",
        "\n",
        "endmodule\n",
        "//-----//\n",
        "\n",
        "//-----//\n",
        "module my_nor2_tb();\n",
        "    wire F_tb;\n",
        "    reg a_tb, b_tb;\n",
        "\n",
        "    my_and2 dut(.F(F_tb),.a(a_tb),.b(b_tb));\n",
        "\n",
        "    // Test stimulus\n",
        "    initial begin\n",
        "        $dumpfile(\"my_nor2_tb.vcd\");\n",
        "        $dumpvars;\n",
        "\n",
        "        #0 a_tb = 1'b0; b_tb = 1'b0;\n",
        "        #1 a_tb = 1'b0; b_tb = 1'b1;\n",
        "        #1 a_tb = 1'b1; b_tb = 1'b0;\n",
        "        #1 a_tb = 1'b1; b_tb = 1'b1;\n",
        "        #1 $finish;\n",
        "\n",
        "        $dumpoff;\n",
        "    end\n",
        "\n",
        "endmodule"
      ],
      "metadata": {
        "colab": {
          "base_uri": "https://localhost:8080/"
        },
        "id": "Y2wcRW2h9dWQ",
        "outputId": "bab42f73-2b0b-4519-f91c-147b16334139"
      },
      "execution_count": 52,
      "outputs": [
        {
          "output_type": "stream",
          "name": "stdout",
          "text": [
            "VCD info: dumpfile my_nor2_tb.vcd opened for output.\n",
            "\n"
          ]
        }
      ]
    },
    {
      "cell_type": "code",
      "source": [
        "%%waveform my_nor2_tb.vcd\n",
        "sign_list = ['my_nor2_tb.F_tb','my_nor2_tb.a_tb', 'my_nor2_tb.b_tb']\n",
        "time_begin = 0\n",
        "time_end = 5\n",
        "base = 'dec' # bin, dec, dec2, hex, octal"
      ],
      "metadata": {
        "colab": {
          "base_uri": "https://localhost:8080/",
          "height": 368
        },
        "id": "N1Scb2SL9rfm",
        "outputId": "06ea1286-b57d-4421-c746-c31d48f00740"
      },
      "execution_count": 53,
      "outputs": [
        {
          "output_type": "display_data",
          "data": {
            "text/plain": [
              "<Figure size 600x400 with 1 Axes>"
            ],
            "image/png": "[encoded data removed]"
          },
          "metadata": {}
        }
      ]
    },
    {
      "cell_type": "code",
      "source": [
        "%%print_verilog\n",
        "\n",
        "//--my 2 inputs xor gate--//\n",
        "module my_and2(\n",
        "    output F,\n",
        "    input a,\n",
        "    input b);\n",
        "\n",
        "  assign F = (a^b);\n",
        "\n",
        "endmodule\n",
        "//-----//"
      ],
      "metadata": {
        "colab": {
          "base_uri": "https://localhost:8080/",
          "height": 140
        },
        "id": "8u2M5iQX9vIi",
        "outputId": "9d99dd60-4335-4f23-dc97-a2bb01ed1dbe"
      },
      "execution_count": 54,
      "outputs": [
        {
          "output_type": "display_data",
          "data": {
            "text/plain": [
              "<IPython.core.display.SVG object>"
            ],
            "image/svg+xml": "<svg xmlns=\"http://www.w3.org/2000/svg\" xmlns:xlink=\"http://www.w3.org/1999/xlink\" xmlns:s=\"https://github.com/nturley/netlistsvg\" width=\"187\" height=\"119\"><style>svg {\n  stroke:#000;\n  fill:none;\n}\ntext {\n  fill:#000;\n  stroke:none;\n  font-size:10px;\n  font-weight: bold;\n  font-family: &quot;Courier New&quot;, monospace;\n}\nline {\n    stroke-linecap: round;\n}\n.nodelabel {\n  text-anchor: middle;\n}\n.inputPortLabel {\n  text-anchor: end;\n}\n.splitjoinBody {\n  fill:#000;\n}</style><g s:type=\"reduce_xor\" transform=\"translate(77,27)\" s:width=\"33\" s:height=\"25\" id=\"cell_$xor$/content/code.v:8$1\"><s:alias val=\"$xor\"/><s:alias val=\"$reduce_xor\"/><s:alias val=\"$_XOR_\"/><path d=\"M3,0 A30 25 0 0 1 3,25 A30 25 0 0 0 33,12.5 A30 25 0 0 0 3,0\" class=\"cell_$xor$/content/code.v:8$1\"/><path d=\"M0,0 A30 25 0 0 1 0,25\" class=\"cell_$xor$/content/code.v:8$1\"/><g s:x=\"2\" s:y=\"5\" s:pid=\"A\"/><g s:x=\"2\" s:y=\"20\" s:pid=\"B\"/><g s:x=\"33\" s:y=\"12.5\" s:pid=\"Y\"/></g><g s:type=\"outputExt\" transform=\"translate(145,29.5)\" s:width=\"30\" s:height=\"20\" id=\"cell_F\"><text x=\"15\" y=\"-4\" class=\"nodelabel cell_F\" s:attribute=\"ref\">F</text><s:alias val=\"$_outputExt_\"/><path d=\"M30,0 L30,20 L15,20 L0,10 L15,0 Z\" class=\"cell_F\"/><g s:x=\"0\" s:y=\"10\" s:pid=\"A\"/></g><g s:type=\"inputExt\" transform=\"translate(12,22)\" s:width=\"30\" s:height=\"20\" id=\"cell_a\"><text x=\"15\" y=\"-4\" class=\"nodelabel cell_a\" s:attribute=\"ref\">a</text><s:alias val=\"$_inputExt_\"/><path d=\"M0,0 L0,20 L15,20 L30,10 L15,0 Z\" class=\"cell_a\"/><g s:x=\"30\" s:y=\"10\" s:pid=\"Y\"/></g><g s:type=\"inputExt\" transform=\"translate(12,87)\" s:width=\"30\" s:height=\"20\" id=\"cell_b\"><text x=\"15\" y=\"-4\" class=\"nodelabel cell_b\" s:attribute=\"ref\">b</text><s:alias val=\"$_inputExt_\"/><path d=\"M0,0 L0,20 L15,20 L30,10 L15,0 Z\" class=\"cell_b\"/><g s:x=\"30\" s:y=\"10\" s:pid=\"Y\"/></g><line x1=\"42\" x2=\"79\" y1=\"32\" y2=\"32\" class=\"net_3 width_1\" style=\"stroke-width: 1\"/><line x1=\"42\" x2=\"52\" y1=\"97\" y2=\"97\" class=\"net_4 width_1\" style=\"stroke-width: 1\"/><line x1=\"52\" x2=\"52\" y1=\"97\" y2=\"47\" class=\"net_4 width_1\" style=\"stroke-width: 1\"/><line x1=\"52\" x2=\"79\" y1=\"47\" y2=\"47\" class=\"net_4 width_1\" style=\"stroke-width: 1\"/><line x1=\"110\" x2=\"145\" y1=\"39.5\" y2=\"39.5\" class=\"net_2 width_1\" style=\"stroke-width: 1\"/></svg>"
          },
          "metadata": {}
        }
      ]
    },
    {
      "cell_type": "code",
      "source": [
        "%%verilog\n",
        "\n",
        "//--my 2 inputs xor gate--//\n",
        "module my_and2 (\n",
        "    output F,\n",
        "    input a,\n",
        "    input b);\n",
        "\n",
        "  assign F = (a^b);\n",
        "\n",
        "endmodule\n",
        "//-----//\n",
        "\n",
        "//-----//\n",
        "module my_xor2_tb();\n",
        "    wire F_tb;\n",
        "    reg a_tb, b_tb;\n",
        "\n",
        "    my_and2 dut(.F(F_tb),.a(a_tb),.b(b_tb));\n",
        "\n",
        "    // Test stimulus\n",
        "    initial begin\n",
        "        $dumpfile(\"my_xor2_tb.vcd\");\n",
        "        $dumpvars;\n",
        "\n",
        "        #0 a_tb = 1'b0; b_tb = 1'b0;\n",
        "        #1 a_tb = 1'b0; b_tb = 1'b1;\n",
        "        #1 a_tb = 1'b1; b_tb = 1'b0;\n",
        "        #1 a_tb = 1'b1; b_tb = 1'b1;\n",
        "        #1 $finish;\n",
        "\n",
        "        $dumpoff;\n",
        "    end\n",
        "\n",
        "endmodule"
      ],
      "metadata": {
        "colab": {
          "base_uri": "https://localhost:8080/"
        },
        "id": "qwvXfx4791H-",
        "outputId": "91adab48-02cf-4b3d-b04f-0bb4d4d6a20b"
      },
      "execution_count": 55,
      "outputs": [
        {
          "output_type": "stream",
          "name": "stdout",
          "text": [
            "VCD info: dumpfile my_xor2_tb.vcd opened for output.\n",
            "\n"
          ]
        }
      ]
    },
    {
      "cell_type": "code",
      "source": [
        "%%waveform my_xor2_tb.vcd\n",
        "sign_list = ['my_xor2_tb.F_tb','my_xor2_tb.a_tb', 'my_xor2_tb.b_tb']\n",
        "time_begin = 0\n",
        "time_end = 5\n",
        "base = 'dec' # bin, dec, dec2, hex, octal"
      ],
      "metadata": {
        "colab": {
          "base_uri": "https://localhost:8080/",
          "height": 368
        },
        "id": "QTsNWo9Z-ARX",
        "outputId": "d40f76f7-e861-4368-d29b-2ddff657aa68"
      },
      "execution_count": 56,
      "outputs": [
        {
          "output_type": "display_data",
          "data": {
            "text/plain": [
              "<Figure size 600x400 with 1 Axes>"
            ],
            "image/png": "[encoded data removed]"
          },
          "metadata": {}
        }
      ]
    },
    {
      "cell_type": "code",
      "source": [
        "%%print_verilog\n",
        "\n",
        "//--my 2 inputs xnor gate--//\n",
        "module my_and2(\n",
        "    output F,\n",
        "    input a,\n",
        "    input b);\n",
        "\n",
        "  assign F = (a~^b);\n",
        "\n",
        "endmodule\n",
        "//-----//"
      ],
      "metadata": {
        "colab": {
          "base_uri": "https://localhost:8080/",
          "height": 140
        },
        "id": "779CRFQI-IYl",
        "outputId": "fc51efe8-e4d1-47dd-c292-ea338ef464c0"
      },
      "execution_count": 57,
      "outputs": [
        {
          "output_type": "display_data",
          "data": {
            "text/plain": [
              "<IPython.core.display.SVG object>"
            ],
            "image/svg+xml": "<svg xmlns=\"http://www.w3.org/2000/svg\" xmlns:xlink=\"http://www.w3.org/1999/xlink\" xmlns:s=\"https://github.com/nturley/netlistsvg\" width=\"192\" height=\"119\"><style>svg {\n  stroke:#000;\n  fill:none;\n}\ntext {\n  fill:#000;\n  stroke:none;\n  font-size:10px;\n  font-weight: bold;\n  font-family: &quot;Courier New&quot;, monospace;\n}\nline {\n    stroke-linecap: round;\n}\n.nodelabel {\n  text-anchor: middle;\n}\n.inputPortLabel {\n  text-anchor: end;\n}\n.splitjoinBody {\n  fill:#000;\n}</style><g s:type=\"reduce_nxor\" transform=\"translate(77,27)\" s:width=\"33\" s:height=\"25\" id=\"cell_$xnor$/content/code.v:8$1\"><s:alias val=\"$xnor\"/><s:alias val=\"$reduce_xnor\"/><s:alias val=\"$_XNOR_\"/><path d=\"M3,0 A30 25 0 0 1 3,25 A30 25 0 0 0 33,12.5 A30 25 0 0 0 3,0\" class=\"cell_$xnor$/content/code.v:8$1\"/><path d=\"M0,0 A30 25 0 0 1 0,25\" class=\"cell_$xnor$/content/code.v:8$1\"/><circle cx=\"36\" cy=\"12.5\" r=\"3\" class=\"cell_$xnor$/content/code.v:8$1\"/><g s:x=\"2\" s:y=\"5\" s:pid=\"A\"/><g s:x=\"2\" s:y=\"20\" s:pid=\"B\"/><g s:x=\"38\" s:y=\"12.5\" s:pid=\"Y\"/></g><g s:type=\"outputExt\" transform=\"translate(150,29.5)\" s:width=\"30\" s:height=\"20\" id=\"cell_F\"><text x=\"15\" y=\"-4\" class=\"nodelabel cell_F\" s:attribute=\"ref\">F</text><s:alias val=\"$_outputExt_\"/><path d=\"M30,0 L30,20 L15,20 L0,10 L15,0 Z\" class=\"cell_F\"/><g s:x=\"0\" s:y=\"10\" s:pid=\"A\"/></g><g s:type=\"inputExt\" transform=\"translate(12,22)\" s:width=\"30\" s:height=\"20\" id=\"cell_a\"><text x=\"15\" y=\"-4\" class=\"nodelabel cell_a\" s:attribute=\"ref\">a</text><s:alias val=\"$_inputExt_\"/><path d=\"M0,0 L0,20 L15,20 L30,10 L15,0 Z\" class=\"cell_a\"/><g s:x=\"30\" s:y=\"10\" s:pid=\"Y\"/></g><g s:type=\"inputExt\" transform=\"translate(12,87)\" s:width=\"30\" s:height=\"20\" id=\"cell_b\"><text x=\"15\" y=\"-4\" class=\"nodelabel cell_b\" s:attribute=\"ref\">b</text><s:alias val=\"$_inputExt_\"/><path d=\"M0,0 L0,20 L15,20 L30,10 L15,0 Z\" class=\"cell_b\"/><g s:x=\"30\" s:y=\"10\" s:pid=\"Y\"/></g><line x1=\"42\" x2=\"79\" y1=\"32\" y2=\"32\" class=\"net_3 width_1\" style=\"stroke-width: 1\"/><line x1=\"42\" x2=\"52\" y1=\"97\" y2=\"97\" class=\"net_4 width_1\" style=\"stroke-width: 1\"/><line x1=\"52\" x2=\"52\" y1=\"97\" y2=\"47\" class=\"net_4 width_1\" style=\"stroke-width: 1\"/><line x1=\"52\" x2=\"79\" y1=\"47\" y2=\"47\" class=\"net_4 width_1\" style=\"stroke-width: 1\"/><line x1=\"115\" x2=\"150\" y1=\"39.5\" y2=\"39.5\" class=\"net_2 width_1\" style=\"stroke-width: 1\"/></svg>"
          },
          "metadata": {}
        }
      ]
    },
    {
      "cell_type": "code",
      "source": [
        "%%verilog\n",
        "\n",
        "//--my 2 inputs xnor gate--//\n",
        "module my_and2 (\n",
        "    output F,\n",
        "    input a,\n",
        "    input b);\n",
        "\n",
        "  assign F = (a~^b);\n",
        "\n",
        "endmodule\n",
        "//-----//\n",
        "\n",
        "//-----//\n",
        "module my_add2_tb();\n",
        "    wire F_tb;\n",
        "    reg a_tb, b_tb;\n",
        "\n",
        "    my_and2 dut(.F(F_tb),.a(a_tb),.b(b_tb));\n",
        "\n",
        "    // Test stimulus\n",
        "    initial begin\n",
        "        $dumpfile(\"my_add2_tb.vcd\");\n",
        "        $dumpvars;\n",
        "\n",
        "        #0 a_tb = 1'b0; b_tb = 1'b0;\n",
        "        #1 a_tb = 1'b0; b_tb = 1'b1;\n",
        "        #1 a_tb = 1'b1; b_tb = 1'b0;\n",
        "        #1 a_tb = 1'b1; b_tb = 1'b1;\n",
        "        #1 $finish;\n",
        "\n",
        "        $dumpoff;\n",
        "    end\n",
        "\n",
        "endmodule"
      ],
      "metadata": {
        "colab": {
          "base_uri": "https://localhost:8080/"
        },
        "id": "pnj_X1it-VNz",
        "outputId": "273731a6-0c96-455a-cc8e-4b5096e85340"
      },
      "execution_count": 58,
      "outputs": [
        {
          "output_type": "stream",
          "name": "stdout",
          "text": [
            "VCD info: dumpfile my_add2_tb.vcd opened for output.\n",
            "\n"
          ]
        }
      ]
    },
    {
      "cell_type": "code",
      "source": [
        "%%waveform my_add2_tb.vcd\n",
        "sign_list = ['my_add2_tb.F_tb','my_add2_tb.a_tb', 'my_add2_tb.b_tb']\n",
        "time_begin = 0\n",
        "time_end = 5\n",
        "base = 'dec' # bin, dec, dec2, hex, octal"
      ],
      "metadata": {
        "colab": {
          "base_uri": "https://localhost:8080/",
          "height": 368
        },
        "id": "YhiKO0KZ-bkv",
        "outputId": "f90e2494-5fca-4d0a-ecb0-7d5c625e6c0c"
      },
      "execution_count": 59,
      "outputs": [
        {
          "output_type": "display_data",
          "data": {
            "text/plain": [
              "<Figure size 600x400 with 1 Axes>"
            ],
            "image/png": "[encoded data removed]"
          },
          "metadata": {}
        }
      ]
    },
    {
      "cell_type": "code",
      "source": [],
      "metadata": {
        "id": "Z721qjIt-hbb"
      },
      "execution_count": 59,
      "outputs": []
    }
  ]
}